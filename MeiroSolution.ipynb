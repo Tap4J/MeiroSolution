{
 "cells": [
  {
   "cell_type": "markdown",
   "id": "6c7e168a-d645-460b-ae4f-ef9ef2c1f339",
   "metadata": {},
   "source": [
    "# Meiro - assignment solution"
   ]
  },
  {
   "cell_type": "markdown",
   "id": "59ed5ddc-3ca8-4ce4-910a-6b3364cdb7d6",
   "metadata": {},
   "source": [
    "Hello there!\n",
    "Thanks a lot for being a part of the interview for data position in Meiro, I am glad you got in\n",
    "touch and made it so far. As a last task I have a data file for you I would like you to analyze.\n",
    "This practice should not take you more than 2 hours. In the attachment you can find a\n",
    "compressed file containing newline delimited JSON objects.\n",
    "Please, process the file and based on the contents prepare simple data model for a relational\n",
    "database suitable for asking analytical questions. You can use any database you like - from\n",
    "SQLite, MySQL, PostgreSQL, MS Access, MS SQL Server to Redshift, BigQuery, Snowflake\n",
    "and more.\n",
    "Then answer following two questions:\n",
    "1) Which user spent the most money on products on all Fridays?\n",
    "2) What are the best 3 products in each location of a user based on quantity?\n",
    "Please, document the whole process of your work and thinking (exploring the file, unzipping it,\n",
    "processing, loading to the DB of your choice, writing SQL queries, ...) - it can have the form of\n",
    "Jupyter Notebook, RStudio file, PDF, MS Word or Google Docs document, blogpost - whatever\n",
    "works for you.\n",
    "Should you have any questions, please, do not hesitate to let me know.\n",
    "Thanks a lot and have a great day1"
   ]
  },
  {
   "cell_type": "markdown",
   "id": "7e53dd8c-4ec4-4528-9bf9-3408093ac3c8",
   "metadata": {},
   "source": [
    "**For this solution I'm trying different approach using pyjsonq - librabry taht help to query data directly in json**"
   ]
  },
  {
   "cell_type": "code",
   "execution_count": null,
   "id": "3c41a530-54f8-4e25-936a-b9d19843055b",
   "metadata": {},
   "outputs": [],
   "source": []
  }
 ],
 "metadata": {
  "kernelspec": {
   "display_name": "Python 3 (ipykernel)",
   "language": "python",
   "name": "python3"
  },
  "language_info": {
   "codemirror_mode": {
    "name": "ipython",
    "version": 3
   },
   "file_extension": ".py",
   "mimetype": "text/x-python",
   "name": "python",
   "nbconvert_exporter": "python",
   "pygments_lexer": "ipython3",
   "version": "3.11.5"
  }
 },
 "nbformat": 4,
 "nbformat_minor": 5
}
