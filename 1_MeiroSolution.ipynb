{
 "cells": [
  {
   "cell_type": "markdown",
   "id": "6c7e168a-d645-460b-ae4f-ef9ef2c1f339",
   "metadata": {},
   "source": [
    "# Meiro - assignment solution"
   ]
  },
  {
   "cell_type": "markdown",
   "id": "59ed5ddc-3ca8-4ce4-910a-6b3364cdb7d6",
   "metadata": {},
   "source": [
    "Hello there!\n",
    "Thanks a lot for being a part of the interview for data position in Meiro, I am glad you got in\n",
    "touch and made it so far. As a last task I have a data file for you I would like you to analyze.\n",
    "This practice should not take you more than 2 hours. In the attachment you can find a\n",
    "compressed file containing newline delimited JSON objects.\n",
    "Please, process the file and based on the contents prepare simple data model for a relational\n",
    "database suitable for asking analytical questions. You can use any database you like - from\n",
    "SQLite, MySQL, PostgreSQL, MS Access, MS SQL Server to Redshift, BigQuery, Snowflake\n",
    "and more.\n",
    "Then answer following two questions:\n",
    "1) Which user spent the most money on products on all Fridays?\n",
    "2) What are the best 3 products in each location of a user based on quantity?\n",
    "Please, document the whole process of your work and thinking (exploring the file, unzipping it,\n",
    "processing, loading to the DB of your choice, writing SQL queries, ...) - it can have the form of\n",
    "Jupyter Notebook, RStudio file, PDF, MS Word or Google Docs document, blogpost - whatever\n",
    "works for you.\n",
    "Should you have any questions, please, do not hesitate to let me know.\n",
    "Thanks a lot and have a great day1"
   ]
  },
  {
   "cell_type": "markdown",
   "id": "7e53dd8c-4ec4-4528-9bf9-3408093ac3c8",
   "metadata": {},
   "source": [
    "**For this solution I'm trying different approach using pyjsonq - librabry taht help to query data directly in json**"
   ]
  },
  {
   "cell_type": "code",
   "execution_count": 80,
   "id": "3c41a530-54f8-4e25-936a-b9d19843055b",
   "metadata": {},
   "outputs": [],
   "source": [
    "# Import libraries I'll use during session\n",
    "from pyjsonq import JsonQ\n",
    "from datetime import datetime\n",
    "import json"
   ]
  },
  {
   "cell_type": "code",
   "execution_count": 52,
   "id": "5ae831dc-07d2-4446-a2eb-8b01b1dab79e",
   "metadata": {},
   "outputs": [],
   "source": [
    "# Function to convert ndjson file to json (pyjsonq can't access ndjson file)\n",
    "def ndjson_to_json(ndjson_file, json_file):\n",
    "    with open(ndjson_file, 'r') as ndjson_file:\n",
    "        ndjson_data = [json.loads(line) for line in ndjson_file]\n",
    "    with open(json_file, 'w') as json_file:\n",
    "        json.dump(ndjson_data, json_file)\n",
    "ndjson_to_json('data/data.ndjson', 'data/data.json')"
   ]
  },
  {
   "cell_type": "code",
   "execution_count": 51,
   "id": "8d50e9cc-b8a6-4551-b053-8fcfbeeb51ca",
   "metadata": {},
   "outputs": [],
   "source": [
    "# Read data\n",
    "json_data = JsonQ('data/data.json')"
   ]
  },
  {
   "cell_type": "code",
   "execution_count": 11,
   "id": "52f24cf4-93a6-45af-9ee8-b7398447524c",
   "metadata": {},
   "outputs": [],
   "source": [
    "json_raw = json_data._raw_data"
   ]
  },
  {
   "cell_type": "markdown",
   "id": "2022f6cc-15f2-492d-b054-ba529d55cc02",
   "metadata": {},
   "source": [
    "## First Question"
   ]
  },
  {
   "cell_type": "code",
   "execution_count": 76,
   "id": "a81866d2-5308-45d7-b0a7-82f5b36b1982",
   "metadata": {},
   "outputs": [
    {
     "name": "stdout",
     "output_type": "stream",
     "text": [
      "User with ID: 4 spent the most money on products on all Fridays.\n",
      "All users spendnings for Fridays\n",
      "User with ID: 4 spent amount: 869810\n",
      "User with ID: 1 spent amount: 862980\n",
      "User with ID: 5 spent amount: 855470\n",
      "User with ID: 2 spent amount: 835880\n",
      "User with ID: 3 spent amount: 831690\n",
      "User with ID: 7 spent amount: 825720\n",
      "User with ID: 6 spent amount: 825350\n",
      "User with ID: 0 spent amount: 814700\n"
     ]
    }
   ],
   "source": [
    "# Initialize dictionary, match only Fridays via timestamp, access data, sort data from descending, print all spendings and max spending.\n",
    "total_spending = {}\n",
    "for transaction in json_raw:\n",
    "    transaction_date = datetime.fromtimestamp(transaction['created'])\n",
    "    if transaction_date.weekday() == 4:\n",
    "        user_id = transaction['user']['id']\n",
    "        spending = sum(product['price'] for product in transaction['products'])\n",
    "        if user_id in total_spending:\n",
    "            total_spending[user_id] +=spending\n",
    "        else:\n",
    "            total_spending[user_id] = spending\n",
    "sorted_spending = sorted(total_spending.items(), key=lambda x: x[1], reverse=True)\n",
    "if total_spending:\n",
    "    max_spending_user = sorted_spending[0][0]\n",
    "    print(\"User with ID:\", max_spending_user, \"spent the most money on products on all Fridays.\")\n",
    "print(\"All users spendnings for Fridays\")\n",
    "for user_id, spending in sorted_spending:\n",
    "    print(\"User with ID:\", user_id, \"spent amount:\", spending)"
   ]
  },
  {
   "cell_type": "markdown",
   "id": "befce212-5308-48a5-bf9d-2f4656140d43",
   "metadata": {},
   "source": [
    "### User with ID: 4 spent the most money on products on all Fridays with spent amount: 869810"
   ]
  },
  {
   "cell_type": "markdown",
   "id": "998bc478-da81-4cb6-92f2-843ccb1fe915",
   "metadata": {},
   "source": [
    "## Second Question"
   ]
  },
  {
   "cell_type": "code",
   "execution_count": 102,
   "id": "db514a8b-ab5e-4816-952b-e9308da7c7a9",
   "metadata": {},
   "outputs": [],
   "source": [
    "# Initialize dictionary, for loop for location, loop for product id and name, initialize top_3_product dictionary, loop for quanity amount and print data\n",
    "location_product_count = {}\n",
    "for transaction in json_raw:\n",
    "    location = transaction['user']['city']\n",
    "    if location not in location_product_count:\n",
    "        location_product_count[location] = {}\n",
    "    for product in transaction['products']:\n",
    "        product_id = product['id']\n",
    "        product_name = product['name']\n",
    "        if product_id in location_product_count[location]:\n",
    "            location_product_count[location][product_id][product_name] +=1\n",
    "        else:\n",
    "            location_product_count[location][product_id] = {product_name: 1}\n",
    "top_3_products = {}\n",
    "for location, product_count in location_product_count.items():\n",
    "        top_products = sorted(product_count.items(), key=lambda x: list(x[1].values())[0], reverse = True)[:3]\n",
    "        top_products_names = [(product_id, list(count.keys())[0], list(count.values())[0]) for product_id, count in top_products]\n",
    "        top_3_products[location] = top_products_names"
   ]
  },
  {
   "cell_type": "markdown",
   "id": "c62c6d09-fed7-4550-9068-a8174e4a8d79",
   "metadata": {},
   "source": [
    "### Top 3 products for each location are displayed in table below"
   ]
  },
  {
   "cell_type": "code",
   "execution_count": 103,
   "id": "4548dab1-c167-45e3-bff6-8ce63c75442d",
   "metadata": {},
   "outputs": [
    {
     "name": "stdout",
     "output_type": "stream",
     "text": [
      "Top 3 products by quantity for each city\n",
      "City: Sydney\n",
      "Product ID 12 - product: Product M with quantity of 4335\n",
      "Product ID 10 - product: Product K with quantity of 4318\n",
      "Product ID 11 - product: Product L with quantity of 4313\n",
      "City: Prague\n",
      "Product ID 2 - product: Product C with quantity of 4400\n",
      "Product ID 11 - product: Product L with quantity of 4388\n",
      "Product ID 6 - product: Product G with quantity of 4362\n",
      "City: Singapore\n",
      "Product ID 15 - product: Product P with quantity of 4479\n",
      "Product ID 13 - product: Product N with quantity of 4396\n",
      "Product ID 2 - product: Product C with quantity of 4381\n",
      "City: Jakarta\n",
      "Product ID 3 - product: Product D with quantity of 4328\n",
      "Product ID 9 - product: Product J with quantity of 4309\n",
      "Product ID 2 - product: Product C with quantity of 4305\n",
      "City: Melbourne\n",
      "Product ID 9 - product: Product J with quantity of 4438\n",
      "Product ID 3 - product: Product D with quantity of 4400\n",
      "Product ID 8 - product: Product I with quantity of 4391\n",
      "City: Kuala Lumpur\n",
      "Product ID 1 - product: Product B with quantity of 4446\n",
      "Product ID 11 - product: Product L with quantity of 4338\n",
      "Product ID 9 - product: Product J with quantity of 4336\n",
      "City: Hong Kong\n",
      "Product ID 8 - product: Product I with quantity of 4415\n",
      "Product ID 15 - product: Product P with quantity of 4397\n",
      "Product ID 14 - product: Product O with quantity of 4369\n",
      "City: Brno\n",
      "Product ID 11 - product: Product L with quantity of 4438\n",
      "Product ID 14 - product: Product O with quantity of 4413\n",
      "Product ID 13 - product: Product N with quantity of 4386\n"
     ]
    }
   ],
   "source": [
    "print(\"Top 3 products by quantity for each city\")\n",
    "for location, top_products in top_3_products.items():\n",
    "    print(\"City:\", location)\n",
    "    for product_id, product_name, count in top_products:\n",
    "        print(\"Product ID\", product_id, \"- product:\", product_name, \"with quantity of\", count)"
   ]
  }
 ],
 "metadata": {
  "kernelspec": {
   "display_name": "Python 3 (ipykernel)",
   "language": "python",
   "name": "python3"
  },
  "language_info": {
   "codemirror_mode": {
    "name": "ipython",
    "version": 3
   },
   "file_extension": ".py",
   "mimetype": "text/x-python",
   "name": "python",
   "nbconvert_exporter": "python",
   "pygments_lexer": "ipython3",
   "version": "3.11.5"
  }
 },
 "nbformat": 4,
 "nbformat_minor": 5
}
